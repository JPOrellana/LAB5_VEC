{
  "nbformat": 4,
  "nbformat_minor": 0,
  "metadata": {
    "colab": {
      "provenance": [],
      "include_colab_link": true
    },
    "kernelspec": {
      "name": "python3",
      "display_name": "Python 3"
    },
    "language_info": {
      "name": "python"
    }
  },
  "cells": [
    {
      "cell_type": "markdown",
      "metadata": {
        "id": "view-in-github",
        "colab_type": "text"
      },
      "source": [
        "<a href=\"https://colab.research.google.com/github/JPOrellana/LAB5_VEC/blob/main/Laboratorio_4_Vectorizacion.ipynb\" target=\"_parent\"><img src=\"https://colab.research.google.com/assets/colab-badge.svg\" alt=\"Open In Colab\"/></a>"
      ]
    },
    {
      "cell_type": "markdown",
      "source": [
        "NOMBRES:\n",
        "\n",
        "APELLIDOS:\n",
        "\n",
        "CARNE:\n",
        "\n",
        "FECHA:"
      ],
      "metadata": {
        "id": "zXhjY9dGwJls"
      }
    },
    {
      "cell_type": "markdown",
      "source": [
        "**Ejercicio 1**\n",
        "Cree un corpus a su gusto como el visto en clase, cálcule PPMI, pero aplicando Lapace Smoothing."
      ],
      "metadata": {
        "id": "n7nnvCPLh5Ms"
      }
    },
    {
      "cell_type": "code",
      "source": [],
      "metadata": {
        "id": "r3aTZXJeiFAI"
      },
      "execution_count": null,
      "outputs": []
    },
    {
      "cell_type": "code",
      "source": [],
      "metadata": {
        "id": "Hf3GX1_liFXd"
      },
      "execution_count": null,
      "outputs": []
    },
    {
      "cell_type": "markdown",
      "source": [
        "**Ejercicio 2**\n",
        "\n",
        "Crear 10 analigias validas basadas en su texto, tome en cuenta que es necesario utilizar el codigo visto en clase y ajuste su corpus para poder lograr obtener todas las analogias"
      ],
      "metadata": {
        "id": "fzRf6sNDiF1v"
      }
    },
    {
      "cell_type": "code",
      "source": [],
      "metadata": {
        "id": "WUUiX7oBffZg"
      },
      "execution_count": null,
      "outputs": []
    }
  ]
}